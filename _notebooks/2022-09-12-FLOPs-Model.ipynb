{
 "cells": [
  {
   "cell_type": "markdown",
   "id": "4dc576bb-cb8e-476c-8361-c0376bf11c46",
   "metadata": {},
   "source": [
    "# \"Benchmarking Neural Networks\"\n",
    "> \"Methods for calculating the performance of the neural network models\"\n",
    "\n",
    "- toc: true\n",
    "- comments: true\n",
    "- categories: [pytorch, FLOPS, ODML]\n",
    "- image: images/flops_logo.png\n",
    "- author: Prince"
   ]
  },
  {
   "cell_type": "code",
   "execution_count": 2,
   "id": "60f8bc15-5d98-4faf-bd9c-c3fdfe9b44f4",
   "metadata": {},
   "outputs": [],
   "source": [
    "import torch"
   ]
  },
  {
   "cell_type": "code",
   "execution_count": 3,
   "id": "bbbe425d-0527-42d6-b997-33c6d16b93d6",
   "metadata": {},
   "outputs": [],
   "source": [
    "device = \"cuda\" if torch.cuda.is_available() else \"cpu\""
   ]
  },
  {
   "cell_type": "code",
   "execution_count": 4,
   "id": "8dedc2e3-41d6-4046-9f10-3aee332c5007",
   "metadata": {},
   "outputs": [
    {
     "name": "stdout",
     "output_type": "stream",
     "text": [
      "cpu\n"
     ]
    }
   ],
   "source": [
    "print(device)"
   ]
  },
  {
   "cell_type": "code",
   "execution_count": null,
   "id": "380ecd37-802f-49d5-8f00-5bb46c28ff43",
   "metadata": {},
   "outputs": [],
   "source": []
  },
  {
   "cell_type": "code",
   "execution_count": null,
   "id": "1dcbbac6-4cc6-480d-b39c-a2fc34381585",
   "metadata": {},
   "outputs": [],
   "source": []
  },
  {
   "cell_type": "markdown",
   "id": "fc029e3c-898e-446f-9d6b-c81c335a8ad6",
   "metadata": {},
   "source": []
  }
 ],
 "metadata": {
  "kernelspec": {
   "display_name": "Python 3 (ipykernel)",
   "language": "python",
   "name": "python3"
  },
  "language_info": {
   "codemirror_mode": {
    "name": "ipython",
    "version": 3
   },
   "file_extension": ".py",
   "mimetype": "text/x-python",
   "name": "python",
   "nbconvert_exporter": "python",
   "pygments_lexer": "ipython3",
   "version": "3.10.6"
  }
 },
 "nbformat": 4,
 "nbformat_minor": 5
}
